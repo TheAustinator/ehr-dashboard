{
 "cells": [
  {
   "cell_type": "code",
   "execution_count": null,
   "metadata": {},
   "outputs": [],
   "source": [
    "import pandas as pd\n",
    "import numpy as np\n",
    "import plotly.express as px"
   ]
  },
  {
   "cell_type": "code",
   "execution_count": null,
   "metadata": {},
   "outputs": [],
   "source": [
    "df = pd.read_csv(\"test_output.csv\", index_col=0)"
   ]
  },
  {
   "cell_type": "code",
   "execution_count": null,
   "metadata": {},
   "outputs": [],
   "source": [
    "df = df.loc[~df.index.str.contains(\"Unnamed\")]"
   ]
  },
  {
   "cell_type": "code",
   "execution_count": null,
   "metadata": {},
   "outputs": [],
   "source": [
    "df.shape"
   ]
  },
  {
   "cell_type": "code",
   "execution_count": null,
   "metadata": {},
   "outputs": [],
   "source": [
    "df.head()"
   ]
  },
  {
   "cell_type": "code",
   "execution_count": null,
   "metadata": {},
   "outputs": [],
   "source": [
    "def list_val_default(list_, default=0):\n",
    "    return list_[1] if len(list_) > 1 else default"
   ]
  },
  {
   "cell_type": "code",
   "execution_count": null,
   "metadata": {},
   "outputs": [],
   "source": [
    "day_n = df.index.str.split(\".\").map(lambda l: list_val_default(l))"
   ]
  },
  {
   "cell_type": "code",
   "execution_count": null,
   "metadata": {},
   "outputs": [],
   "source": [
    "date = df.index.str.split(\".\").map(lambda x: x[0])"
   ]
  },
  {
   "cell_type": "code",
   "execution_count": null,
   "metadata": {},
   "outputs": [],
   "source": [
    "df.index = pd.to_datetime(date) + day_n.map(lambda t: pd.Timedelta(hours= 4 * int(t)))"
   ]
  },
  {
   "cell_type": "code",
   "execution_count": null,
   "metadata": {},
   "outputs": [],
   "source": [
    "metric_names = df.columns.str.split(\"  \").map(lambda l: l[0]).to_series().reset_index(drop=True)"
   ]
  },
  {
   "cell_type": "code",
   "execution_count": null,
   "metadata": {},
   "outputs": [],
   "source": [
    "metric_ranges = df.columns.str.split(\"  \").map(lambda l: list_val_default(l, np.nan)).to_series().reset_index(drop=True)"
   ]
  },
  {
   "cell_type": "markdown",
   "metadata": {},
   "source": [
    "### units and ranges"
   ]
  },
  {
   "cell_type": "code",
   "execution_count": null,
   "metadata": {},
   "outputs": [],
   "source": [
    "dfm = pd.concat([metric_names, metric_ranges], axis=1)"
   ]
  },
  {
   "cell_type": "code",
   "execution_count": null,
   "metadata": {},
   "outputs": [],
   "source": [
    "dfm.columns = [\"metric\", \"range\"]\n",
    "dfm.set_index(\"metric\", inplace=True)\n",
    "dfm = dfm[\"range\"]"
   ]
  },
  {
   "cell_type": "code",
   "execution_count": null,
   "metadata": {},
   "outputs": [],
   "source": [
    "dfm = dfm[~dfm.index.duplicated()]"
   ]
  },
  {
   "cell_type": "code",
   "execution_count": null,
   "metadata": {},
   "outputs": [],
   "source": [
    "dfm = dfm[~dfm.str.contains('|'.join((\"Not\", \"NEG\", \"TRACE\", \"Non\", \"NOT\", \"Negative\", \"Normal\", \"OCC\")), regex=True).astype(bool)]"
   ]
  },
  {
   "cell_type": "code",
   "execution_count": null,
   "metadata": {},
   "outputs": [],
   "source": [
    "dfm_lists = dfm.dropna().str.split(\" \").dropna()"
   ]
  },
  {
   "cell_type": "code",
   "execution_count": null,
   "metadata": {},
   "outputs": [],
   "source": [
    "def parse_metric_range(elem_list):\n",
    "    metric_dict = dict()\n",
    "    len_ = len(elem_list)\n",
    "    if len_ == 1:\n",
    "        metric_dict[\"units\"] = elem_list[-1]\n",
    "    elif len_ == 2:\n",
    "        metric_dict[\"units\"] = elem_list[-1]\n",
    "        val = elem_list[0]\n",
    "        for comparator, col in {\"<=\": \"max\", \">=\": \"min\", \"<\": \"max\", \">\": \"min\"}.items():\n",
    "            if val.startswith(comparator):\n",
    "                metric_dict[col] = float(val[len(comparator):])\n",
    "                break\n",
    "    elif len_ >= 3:\n",
    "        metric_dict[\"min\"] = elem_list[0]\n",
    "        metric_dict[\"max\"] = elem_list[2]\n",
    "        if \"-\" not in elem_list:\n",
    "            return parse_metric_range([elem_list[0], \" \".join(elem_list[1:])])\n",
    "        if len_ == 4:\n",
    "            metric_dict[\"units\"] = elem_list[-1]\n",
    "        \n",
    "    return metric_dict"
   ]
  },
  {
   "cell_type": "code",
   "execution_count": null,
   "metadata": {},
   "outputs": [],
   "source": [
    "dfm = pd.DataFrame(dict(dfm_lists.map(parse_metric_range))).T"
   ]
  },
  {
   "cell_type": "code",
   "execution_count": null,
   "metadata": {},
   "outputs": [],
   "source": [
    "dfm[\"min\"] = dfm[\"min\"].str.replace('|'.join((\",\", \"_x\")), \"\", regex=True).astype(float)\n",
    "dfm[\"max\"] = dfm[\"max\"].str.replace('|'.join((\",\", \"_x\")), \"\", regex=True).astype(float)"
   ]
  },
  {
   "cell_type": "markdown",
   "metadata": {},
   "source": [
    "### clean names"
   ]
  },
  {
   "cell_type": "code",
   "execution_count": null,
   "metadata": {},
   "outputs": [],
   "source": [
    "df.columns = df.columns.str.split(\"  \").map(lambda l: l[0])"
   ]
  },
  {
   "cell_type": "code",
   "execution_count": null,
   "metadata": {},
   "outputs": [],
   "source": [
    "df.columns = df.columns.str.lower()\n",
    "dfm.index = dfm.index.str.lower()"
   ]
  },
  {
   "cell_type": "code",
   "execution_count": null,
   "metadata": {},
   "outputs": [],
   "source": [
    "df.columns = df.columns.str.replace(\" \", \"_\")\n",
    "dfm.index = dfm.index.str.replace(\" \", \"_\")"
   ]
  },
  {
   "cell_type": "code",
   "execution_count": null,
   "metadata": {},
   "outputs": [],
   "source": [
    "dfl = df.select_dtypes(np.float64).reset_index().melt(id_vars=\"index\").dropna()"
   ]
  },
  {
   "cell_type": "code",
   "execution_count": null,
   "metadata": {},
   "outputs": [],
   "source": [
    "dfl"
   ]
  },
  {
   "cell_type": "code",
   "execution_count": null,
   "metadata": {},
   "outputs": [],
   "source": [
    "dfn = df.select_dtypes(np.float64)"
   ]
  },
  {
   "cell_type": "code",
   "execution_count": null,
   "metadata": {},
   "outputs": [],
   "source": [
    "dfn.shape"
   ]
  },
  {
   "cell_type": "code",
   "execution_count": null,
   "metadata": {},
   "outputs": [],
   "source": [
    "dfn = dfn[dfn.index > \"2021-1-1\"]"
   ]
  },
  {
   "cell_type": "code",
   "execution_count": null,
   "metadata": {},
   "outputs": [],
   "source": [
    "dfn.shape"
   ]
  },
  {
   "cell_type": "code",
   "execution_count": null,
   "metadata": {},
   "outputs": [],
   "source": [
    "dfn = dfn.loc[:,~dfn.columns.duplicated()]"
   ]
  },
  {
   "cell_type": "code",
   "execution_count": null,
   "metadata": {},
   "outputs": [],
   "source": [
    "MIN_VALS = 5"
   ]
  },
  {
   "cell_type": "code",
   "execution_count": null,
   "metadata": {},
   "outputs": [],
   "source": [
    "cols_lt_min = dfn.isnull().sum(axis = 0).sort_values() > len(dfn) - MIN_VALS\n",
    "cols_lt_min.value_counts()"
   ]
  },
  {
   "cell_type": "code",
   "execution_count": null,
   "metadata": {},
   "outputs": [],
   "source": [
    "dfn = dfn[dfn.columns[~cols_lt_min]]"
   ]
  },
  {
   "cell_type": "code",
   "execution_count": null,
   "metadata": {},
   "outputs": [],
   "source": [
    "dfn = dfn.interpolate(limit_area=\"inside\")"
   ]
  },
  {
   "cell_type": "code",
   "execution_count": null,
   "metadata": {},
   "outputs": [],
   "source": [
    "dfn = dfn.sort_index()"
   ]
  },
  {
   "cell_type": "code",
   "execution_count": null,
   "metadata": {},
   "outputs": [],
   "source": [
    "COLS = 3"
   ]
  },
  {
   "cell_type": "code",
   "execution_count": null,
   "metadata": {},
   "outputs": [],
   "source": [
    "from math import ceil"
   ]
  },
  {
   "cell_type": "code",
   "execution_count": null,
   "metadata": {},
   "outputs": [],
   "source": [
    "rows = ceil(len(dfn.columns) / COLS)"
   ]
  },
  {
   "cell_type": "code",
   "execution_count": null,
   "metadata": {},
   "outputs": [],
   "source": [
    "titles = dfn.columns.map(lambda col: col + \" \" + str(dfm.loc[col][\"units\"]) if col in dfm.index else col)"
   ]
  },
  {
   "cell_type": "code",
   "execution_count": null,
   "metadata": {},
   "outputs": [],
   "source": [
    "titles = titles.str.replace(\"_x\", \"\")"
   ]
  },
  {
   "cell_type": "code",
   "execution_count": null,
   "metadata": {},
   "outputs": [],
   "source": [
    "titles"
   ]
  },
  {
   "cell_type": "code",
   "execution_count": null,
   "metadata": {},
   "outputs": [],
   "source": [
    "dfn.columns"
   ]
  },
  {
   "cell_type": "code",
   "execution_count": null,
   "metadata": {},
   "outputs": [],
   "source": [
    "from plotly.subplots import make_subplots\n",
    "import plotly.graph_objects as go\n",
    "\n",
    "EXTREMA_COLORS = {\"min\": \"orange\", \"max\": \"red\"}\n",
    "\n",
    "fig = make_subplots(\n",
    "    rows=rows, cols=COLS,\n",
    "    shared_xaxes=True,\n",
    "    vertical_spacing=0.01,\n",
    "    subplot_titles=titles,\n",
    ")\n",
    "for i, col in enumerate(dfn.columns):\n",
    "    j = i // COLS + 1\n",
    "    i = i % COLS + 1\n",
    "    fig.add_trace(\n",
    "        go.Scatter(x=dfn.index, y=dfn[col], line_shape='linear'),\n",
    "        row=j,\n",
    "        col=i\n",
    "    )\n",
    "    if col in dfm.index:\n",
    "        for extrema in [\"min\", \"max\"]:\n",
    "            lim = dfm[extrema][col]\n",
    "            if not np.isnan(lim):\n",
    "                fig.add_hline(y=lim, line_width=3, line_color=EXTREMA_COLORS[extrema], row=j, col=i)"
   ]
  },
  {
   "cell_type": "code",
   "execution_count": null,
   "metadata": {},
   "outputs": [],
   "source": [
    "fig.write_html(\"ehr_1_19_2021.html\")"
   ]
  },
  {
   "cell_type": "code",
   "execution_count": null,
   "metadata": {},
   "outputs": [],
   "source": [
    "fig.update_layout(\n",
    "    height=300 * rows,\n",
    "    width=500 * COLS,\n",
    "    title_text=\"Stacked Subplots with Shared X-Axes\"\n",
    ")\n",
    "fig.update_xaxes(matches='x')\n",
    "fig.show()"
   ]
  },
  {
   "cell_type": "code",
   "execution_count": null,
   "metadata": {},
   "outputs": [],
   "source": [
    "df.select_dtypes(\"O\").dropna(how=\"all\")"
   ]
  },
  {
   "cell_type": "code",
   "execution_count": null,
   "metadata": {},
   "outputs": [],
   "source": []
  },
  {
   "cell_type": "code",
   "execution_count": null,
   "metadata": {},
   "outputs": [],
   "source": []
  }
 ],
 "metadata": {
  "kernelspec": {
   "display_name": "Python 3",
   "language": "python",
   "name": "python3"
  },
  "language_info": {
   "codemirror_mode": {
    "name": "ipython",
    "version": 3
   },
   "file_extension": ".py",
   "mimetype": "text/x-python",
   "name": "python",
   "nbconvert_exporter": "python",
   "pygments_lexer": "ipython3",
   "version": "3.8.6"
  }
 },
 "nbformat": 4,
 "nbformat_minor": 4
}
