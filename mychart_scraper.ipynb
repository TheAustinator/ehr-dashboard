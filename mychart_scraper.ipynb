{
 "cells": [
  {
   "cell_type": "code",
   "execution_count": null,
   "metadata": {},
   "outputs": [],
   "source": [
    "from functools import reduce\n",
    "\n",
    "import bs4\n",
    "import pandas as pd\n",
    "from selenium import webdriver\n",
    "from selenium.webdriver.support.ui import WebDriverWait\n",
    "from selenium.webdriver.support import expected_conditions as EC\n",
    "from selenium.webdriver.common.by import By\n",
    "from selenium.webdriver import ActionChains\n",
    "from selenium.webdriver.common.keys import Keys"
   ]
  },
  {
   "cell_type": "markdown",
   "metadata": {},
   "source": [
    "### USER NOTE: CLEAR CREDENTIALS BEFORE COMMITING"
   ]
  },
  {
   "cell_type": "code",
   "execution_count": null,
   "metadata": {},
   "outputs": [],
   "source": [
    "USERNAME = \"\"\n",
    "PASSWORD = \"\""
   ]
  },
  {
   "cell_type": "code",
   "execution_count": null,
   "metadata": {},
   "outputs": [],
   "source": [
    "site = {\n",
    "    \"login_url\": \"https://my.mdanderson.org/MyChart/Authentication/Login?postloginurl=Clinical%2fTestResults\",\n",
    "    \"username_id\": \"Login\",\n",
    "    \"password_id\": \"Password\",\n",
    "    \"credentials\": {\n",
    "        \"username\": \"\",\n",
    "        \"password\": \"\",\n",
    "    },\n",
    "    \"login_button_id\": \"submit\",\n",
    "    \"login_confirm_css\": \"menuicon heal\",\n",
    "}"
   ]
  },
  {
   "cell_type": "code",
   "execution_count": null,
   "metadata": {},
   "outputs": [],
   "source": [
    "def verify_logged_in(browser, site):\n",
    "    try:\n",
    "        element = WebDriverWait(browser, 10).until(\n",
    "            EC.presence_of_element_located((By.CSS_SELECTOR, site[\"login_confirm_css\"])))\n",
    "        return element\n",
    "    except Exception as e:\n",
    "        print('login not confirmed Exception: {}'.format(str(e)))"
   ]
  },
  {
   "cell_type": "code",
   "execution_count": null,
   "metadata": {},
   "outputs": [],
   "source": [
    "def scrape(site):\n",
    "    browser = login(site)\n",
    "    load_labs(browser)\n",
    "    lab_entries = browser.find_elements_by_class_name(\"SingleResult\")\n",
    "    print(f\"labs detected: {len(lab_entries)}\")\n",
    "    return browser, lab_entries\n",
    "    \n",
    "\n",
    "def login(site):\n",
    "    try:\n",
    "        browser = webdriver.Chrome()\n",
    "        browser.get(site[\"login_url\"])\n",
    "        username_box = browser.find_element_by_id(site[\"username_id\"])\n",
    "        password_box = browser.find_element_by_id(site[\"password_id\"])\n",
    "        username_box.send_keys(site[\"credentials\"][\"username\"])\n",
    "        password_box.send_keys(site[\"credentials\"][\"password\"])\n",
    "        login_button = browser.find_element_by_id(site[\"login_button_id\"])\n",
    "        login_button.click()\n",
    "        sleep(3)\n",
    "    except Exception as e:\n",
    "        print('failed to login {}'.format(str(e)))\n",
    "\n",
    "    return browser\n",
    "\n",
    "\n",
    "def load_labs(browser, pause_time=0.5):\n",
    "    load_more = browser.find_elements_by_class_name(\"loadmore\")\n",
    "    while load_more:\n",
    "        try:\n",
    "            load_more.pop().click()\n",
    "        except Exception as e:\n",
    "            print(\"loadmore done?\")\n",
    "            return False\n",
    "        sleep(pause_time)\n",
    "        load_more = browser.find_elements_by_class_name(\"loadmore\")\n",
    "    return True\n",
    "\n",
    "\n",
    "def get_lab_metadata(browser):\n",
    "    pass\n",
    "\n",
    "\n"
   ]
  },
  {
   "cell_type": "code",
   "execution_count": null,
   "metadata": {},
   "outputs": [],
   "source": [
    "browser, lab_entries = scrape(site)"
   ]
  },
  {
   "cell_type": "code",
   "execution_count": null,
   "metadata": {},
   "outputs": [],
   "source": [
    "panel_dict = dict()\n",
    "home_handle = browser.current_window_handle\n",
    "for entry in lab_entries:\n",
    "    panel = entry.find_element_by_class_name(\"ResultName\").find_element_by_tag_name(\"span\")\n",
    "    entry_clickable = entry.find_element_by_class_name(\"ResultName\").find_element_by_tag_name(\"a\")\n",
    "    entry_name = entry_clickable.find_element_by_tag_name(\"span\").text\n",
    "    if entry_name in panel_dict:\n",
    "        continue\n",
    "    print(entry_name)\n",
    "    lab_url = entry_clickable.get_attribute(\"href\")\n",
    "    window = browser.execute_script(\"window.open('');\")\n",
    "    browser.switch_to.window(browser.window_handles[1])\n",
    "    browser.get(lab_url)\n",
    "    tabs = browser.find_elements_by_class_name(\"membertab\")\n",
    "    try:\n",
    "        results_tab = list(filter(lambda t: t.find_element_by_tag_name(\"span\").text == \"Past Results\", tabs)).pop()\n",
    "    except:\n",
    "        print(f\"{entry_name}: NO TABLE\")\n",
    "        panel_dict[entry_name] = \"NO TABLE\"\n",
    "    else:\n",
    "        results_tab.click()\n",
    "        start_date = browser.find_element_by_class_name(\"date\")\n",
    "        start_date.clear()\n",
    "        start_date.send_keys(\"1/1/15\")\n",
    "        apply_button = browser.find_element_by_class_name(\"otherbutton\")\n",
    "        apply_button.click()\n",
    "        html = browser.page_source\n",
    "        soup = BeautifulSoup(html,'html.parser')\n",
    "        table = list(soup.select(\".tableWrapper\")[0].children)[0]\n",
    "        df = pd.read_html(str(table))[0]\n",
    "        df.set_index(df.columns[0], inplace=True)\n",
    "        panel_dict[entry_name] = df.T\n",
    "    browser.close()\n",
    "    browser.switch_to.window(home_handle)"
   ]
  },
  {
   "cell_type": "code",
   "execution_count": null,
   "metadata": {},
   "outputs": [],
   "source": [
    "df_list = list(filter(lambda x: isinstance(x, pd.DataFrame), panel_dict.values()))"
   ]
  },
  {
   "cell_type": "code",
   "execution_count": null,
   "metadata": {},
   "outputs": [],
   "source": [
    "len(panel_dict)"
   ]
  },
  {
   "cell_type": "code",
   "execution_count": null,
   "metadata": {},
   "outputs": [],
   "source": [
    "len(df_list)"
   ]
  },
  {
   "cell_type": "code",
   "execution_count": null,
   "metadata": {},
   "outputs": [],
   "source": [
    "df = reduce(lambda df_1, df_2: pd.merge(df_1, df_2, how=\"outer\", left_index=True, right_index=True), df_list)"
   ]
  },
  {
   "cell_type": "code",
   "execution_count": null,
   "metadata": {},
   "outputs": [],
   "source": [
    "df.shape"
   ]
  },
  {
   "cell_type": "code",
   "execution_count": null,
   "metadata": {},
   "outputs": [],
   "source": [
    "df.to_csv(\"test_output.csv\")"
   ]
  },
  {
   "cell_type": "code",
   "execution_count": null,
   "metadata": {},
   "outputs": [],
   "source": []
  }
 ],
 "metadata": {
  "kernelspec": {
   "display_name": "Python 3",
   "language": "python",
   "name": "python3"
  },
  "language_info": {
   "codemirror_mode": {
    "name": "ipython",
    "version": 3
   },
   "file_extension": ".py",
   "mimetype": "text/x-python",
   "name": "python",
   "nbconvert_exporter": "python",
   "pygments_lexer": "ipython3",
   "version": "3.8.6"
  }
 },
 "nbformat": 4,
 "nbformat_minor": 4
}
